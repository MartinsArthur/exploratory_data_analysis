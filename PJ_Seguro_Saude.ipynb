{
  "nbformat": 4,
  "nbformat_minor": 0,
  "metadata": {
    "colab": {
      "name": "PJ_Seguro_Saude.ipynb",
      "provenance": [],
      "collapsed_sections": []
    },
    "kernelspec": {
      "display_name": "Python 3",
      "name": "python3"
    }
  },
  "cells": [
    {
      "cell_type": "markdown",
      "metadata": {
        "id": "mV7moozgTw0M"
      },
      "source": [
        "# Análise de Gastos de Operadoras de Plano de Saúde\n",
        "\n",
        "---\n",
        "\n"
      ]
    },
    {
      "cell_type": "markdown",
      "metadata": {
        "id": "mh25AIBlU31b"
      },
      "source": [
        "Os diretores perceberam que os gastos de\n",
        "seguro saúde aumentaram de forma considerável e precisam monitorar a\n",
        "evolução dos gastos.\n",
        "Os diretores precisam de respostas às seguintes perguntas:\n",
        "1. Qual o gasto total da operadora?\n",
        "2. Qual a idade média dos usuários da operadora?\n",
        "3. Qual o gasto médio por região?\n",
        "4. Qual faixa etária possui maior gasto com seguro saúde por região?\n",
        "5. Crianças tem gasto maior que adultos?\n",
        "6. Qual a proporção de crianças por região?\n",
        "7. O aumento da idade influencia no imc?\n",
        "8. Quem tem maior gasto, homens ou mulheres?\n",
        "9. Se o usuário for mulher, o imc é acima ou abaixo da média?\n",
        "10. Se for homem, com mais de 50 anos e da região Sudeste, o gasto é\n",
        "maior ou menor que a média de gastos da região?\n",
        "\n",
        "\n",
        "---\n",
        "\n"
      ]
    },
    {
      "cell_type": "code",
      "metadata": {
        "id": "WDcy1qAFfOkq"
      },
      "source": [
        "import pandas as pd\n",
        "import numpy as np\n",
        "\n",
        "import seaborn           as sns\n",
        "import matplotlib.pyplot as plt\n",
        "\n",
        "\n",
        "from google.colab import files\n",
        "from google.colab import drive\n",
        "\n"
      ],
      "execution_count": 8,
      "outputs": []
    },
    {
      "cell_type": "code",
      "metadata": {
        "colab": {
          "base_uri": "https://localhost:8080/"
        },
        "id": "QoxIXENQi3KP",
        "outputId": "6e2c88bb-b81b-430d-886d-24ae18a96456"
      },
      "source": [
        "drive.mount('/content/drive')"
      ],
      "execution_count": 9,
      "outputs": [
        {
          "output_type": "stream",
          "text": [
            "Drive already mounted at /content/drive; to attempt to forcibly remount, call drive.mount(\"/content/drive\", force_remount=True).\n"
          ],
          "name": "stdout"
        }
      ]
    },
    {
      "cell_type": "code",
      "metadata": {
        "id": "77g0wB_CTX8M"
      },
      "source": [
        "df = pd.read_csv('/content/drive/MyDrive/seguro_saude.csv')"
      ],
      "execution_count": 14,
      "outputs": []
    },
    {
      "cell_type": "markdown",
      "metadata": {
        "id": "o7b52IjKpQlE"
      },
      "source": [
        "#Conhecendo a Base"
      ]
    },
    {
      "cell_type": "code",
      "metadata": {
        "colab": {
          "base_uri": "https://localhost:8080/",
          "height": 204
        },
        "id": "aXAIXLLotKdR",
        "outputId": "b266fea9-caee-4ec5-8124-b19828199c3b"
      },
      "source": [
        "df.head()"
      ],
      "execution_count": 15,
      "outputs": [
        {
          "output_type": "execute_result",
          "data": {
            "text/html": [
              "<div>\n",
              "<style scoped>\n",
              "    .dataframe tbody tr th:only-of-type {\n",
              "        vertical-align: middle;\n",
              "    }\n",
              "\n",
              "    .dataframe tbody tr th {\n",
              "        vertical-align: top;\n",
              "    }\n",
              "\n",
              "    .dataframe thead th {\n",
              "        text-align: right;\n",
              "    }\n",
              "</style>\n",
              "<table border=\"1\" class=\"dataframe\">\n",
              "  <thead>\n",
              "    <tr style=\"text-align: right;\">\n",
              "      <th></th>\n",
              "      <th>idade</th>\n",
              "      <th>sexo</th>\n",
              "      <th>imc</th>\n",
              "      <th>crianca</th>\n",
              "      <th>fumante</th>\n",
              "      <th>regiao</th>\n",
              "      <th>valor_seguro_saude</th>\n",
              "    </tr>\n",
              "  </thead>\n",
              "  <tbody>\n",
              "    <tr>\n",
              "      <th>0</th>\n",
              "      <td>idade</td>\n",
              "      <td>sexo</td>\n",
              "      <td>imc</td>\n",
              "      <td>crianca</td>\n",
              "      <td>fumante</td>\n",
              "      <td>regiao</td>\n",
              "      <td>valor_seguro_saude</td>\n",
              "    </tr>\n",
              "    <tr>\n",
              "      <th>1</th>\n",
              "      <td>35</td>\n",
              "      <td>masculino</td>\n",
              "      <td>27.74</td>\n",
              "      <td>2</td>\n",
              "      <td>sim</td>\n",
              "      <td>norte</td>\n",
              "      <td>20984.0936</td>\n",
              "    </tr>\n",
              "    <tr>\n",
              "      <th>2</th>\n",
              "      <td>63</td>\n",
              "      <td>feminino</td>\n",
              "      <td>31.8</td>\n",
              "      <td>0</td>\n",
              "      <td>nao</td>\n",
              "      <td>sudeste</td>\n",
              "      <td>13880.949</td>\n",
              "    </tr>\n",
              "    <tr>\n",
              "      <th>3</th>\n",
              "      <td>40</td>\n",
              "      <td>masculino</td>\n",
              "      <td>41.23</td>\n",
              "      <td>1</td>\n",
              "      <td>nao</td>\n",
              "      <td>norte</td>\n",
              "      <td>6610.1097</td>\n",
              "    </tr>\n",
              "    <tr>\n",
              "      <th>4</th>\n",
              "      <td>20</td>\n",
              "      <td>masculino</td>\n",
              "      <td>33</td>\n",
              "      <td>1</td>\n",
              "      <td>nao</td>\n",
              "      <td>sudeste</td>\n",
              "      <td>1980.07</td>\n",
              "    </tr>\n",
              "  </tbody>\n",
              "</table>\n",
              "</div>"
            ],
            "text/plain": [
              "   idade       sexo    imc  crianca  fumante   regiao  valor_seguro_saude\n",
              "0  idade       sexo    imc  crianca  fumante   regiao  valor_seguro_saude\n",
              "1     35  masculino  27.74        2      sim    norte          20984.0936\n",
              "2     63   feminino   31.8        0      nao  sudeste           13880.949\n",
              "3     40  masculino  41.23        1      nao    norte           6610.1097\n",
              "4     20  masculino     33        1      nao  sudeste             1980.07"
            ]
          },
          "metadata": {},
          "execution_count": 15
        }
      ]
    },
    {
      "cell_type": "code",
      "metadata": {
        "colab": {
          "base_uri": "https://localhost:8080/",
          "height": 173
        },
        "id": "NfKhK-8OH6iT",
        "outputId": "28a242a1-8bce-422f-f6ab-4c0eddfee2ff"
      },
      "source": [
        "df.describe()"
      ],
      "execution_count": 16,
      "outputs": [
        {
          "output_type": "execute_result",
          "data": {
            "text/html": [
              "<div>\n",
              "<style scoped>\n",
              "    .dataframe tbody tr th:only-of-type {\n",
              "        vertical-align: middle;\n",
              "    }\n",
              "\n",
              "    .dataframe tbody tr th {\n",
              "        vertical-align: top;\n",
              "    }\n",
              "\n",
              "    .dataframe thead th {\n",
              "        text-align: right;\n",
              "    }\n",
              "</style>\n",
              "<table border=\"1\" class=\"dataframe\">\n",
              "  <thead>\n",
              "    <tr style=\"text-align: right;\">\n",
              "      <th></th>\n",
              "      <th>idade</th>\n",
              "      <th>sexo</th>\n",
              "      <th>imc</th>\n",
              "      <th>crianca</th>\n",
              "      <th>fumante</th>\n",
              "      <th>regiao</th>\n",
              "      <th>valor_seguro_saude</th>\n",
              "    </tr>\n",
              "  </thead>\n",
              "  <tbody>\n",
              "    <tr>\n",
              "      <th>count</th>\n",
              "      <td>1339</td>\n",
              "      <td>1337</td>\n",
              "      <td>1339</td>\n",
              "      <td>1339</td>\n",
              "      <td>1338</td>\n",
              "      <td>1338</td>\n",
              "      <td>1339</td>\n",
              "    </tr>\n",
              "    <tr>\n",
              "      <th>unique</th>\n",
              "      <td>48</td>\n",
              "      <td>4</td>\n",
              "      <td>549</td>\n",
              "      <td>7</td>\n",
              "      <td>3</td>\n",
              "      <td>6</td>\n",
              "      <td>1338</td>\n",
              "    </tr>\n",
              "    <tr>\n",
              "      <th>top</th>\n",
              "      <td>18</td>\n",
              "      <td>masculino</td>\n",
              "      <td>32.3</td>\n",
              "      <td>0</td>\n",
              "      <td>nao</td>\n",
              "      <td>sul</td>\n",
              "      <td>1639.5631</td>\n",
              "    </tr>\n",
              "    <tr>\n",
              "      <th>freq</th>\n",
              "      <td>69</td>\n",
              "      <td>675</td>\n",
              "      <td>13</td>\n",
              "      <td>574</td>\n",
              "      <td>1063</td>\n",
              "      <td>363</td>\n",
              "      <td>2</td>\n",
              "    </tr>\n",
              "  </tbody>\n",
              "</table>\n",
              "</div>"
            ],
            "text/plain": [
              "       idade       sexo   imc crianca fumante regiao valor_seguro_saude\n",
              "count   1339       1337  1339    1339    1338   1338               1339\n",
              "unique    48          4   549       7       3      6               1338\n",
              "top       18  masculino  32.3       0     nao    sul          1639.5631\n",
              "freq      69        675    13     574    1063    363                  2"
            ]
          },
          "metadata": {},
          "execution_count": 16
        }
      ]
    },
    {
      "cell_type": "code",
      "metadata": {
        "colab": {
          "base_uri": "https://localhost:8080/"
        },
        "id": "tYk0kEZ3t3og",
        "outputId": "4f9f4c0c-97a3-47ef-a843-d265772abed7"
      },
      "source": [
        "df.info()"
      ],
      "execution_count": 17,
      "outputs": [
        {
          "output_type": "stream",
          "text": [
            "<class 'pandas.core.frame.DataFrame'>\n",
            "RangeIndex: 1339 entries, 0 to 1338\n",
            "Data columns (total 7 columns):\n",
            " #   Column              Non-Null Count  Dtype \n",
            "---  ------              --------------  ----- \n",
            " 0   idade               1339 non-null   object\n",
            " 1   sexo                1337 non-null   object\n",
            " 2   imc                 1339 non-null   object\n",
            " 3   crianca             1339 non-null   object\n",
            " 4   fumante             1338 non-null   object\n",
            " 5   regiao              1338 non-null   object\n",
            " 6   valor_seguro_saude  1339 non-null   object\n",
            "dtypes: object(7)\n",
            "memory usage: 73.4+ KB\n"
          ],
          "name": "stdout"
        }
      ]
    },
    {
      "cell_type": "code",
      "metadata": {
        "colab": {
          "base_uri": "https://localhost:8080/"
        },
        "id": "c92avhnjtqvx",
        "outputId": "a244731d-0e89-4e82-b8c9-9fe05ce382ee"
      },
      "source": [
        "df.isnull().sum()"
      ],
      "execution_count": 18,
      "outputs": [
        {
          "output_type": "execute_result",
          "data": {
            "text/plain": [
              "idade                 0\n",
              "sexo                  2\n",
              "imc                   0\n",
              "crianca               0\n",
              "fumante               1\n",
              "regiao                1\n",
              "valor_seguro_saude    0\n",
              "dtype: int64"
            ]
          },
          "metadata": {},
          "execution_count": 18
        }
      ]
    },
    {
      "cell_type": "code",
      "metadata": {
        "colab": {
          "base_uri": "https://localhost:8080/"
        },
        "id": "umLWD2UNZGa9",
        "outputId": "add18dca-0cef-48d6-8dcc-5f9f10008c70"
      },
      "source": [
        "df.info()"
      ],
      "execution_count": 19,
      "outputs": [
        {
          "output_type": "stream",
          "text": [
            "<class 'pandas.core.frame.DataFrame'>\n",
            "RangeIndex: 1339 entries, 0 to 1338\n",
            "Data columns (total 7 columns):\n",
            " #   Column              Non-Null Count  Dtype \n",
            "---  ------              --------------  ----- \n",
            " 0   idade               1339 non-null   object\n",
            " 1   sexo                1337 non-null   object\n",
            " 2   imc                 1339 non-null   object\n",
            " 3   crianca             1339 non-null   object\n",
            " 4   fumante             1338 non-null   object\n",
            " 5   regiao              1338 non-null   object\n",
            " 6   valor_seguro_saude  1339 non-null   object\n",
            "dtypes: object(7)\n",
            "memory usage: 73.4+ KB\n"
          ],
          "name": "stdout"
        }
      ]
    },
    {
      "cell_type": "code",
      "metadata": {
        "colab": {
          "base_uri": "https://localhost:8080/",
          "height": 321
        },
        "id": "MAQa8Vb1pyCU",
        "outputId": "5158420d-65b9-42d0-bca2-781fdbf794cf"
      },
      "source": [
        "df.plot(kind = \"box\", subplots=True, figsize=(15,5))\n",
        "plt.show()"
      ],
      "execution_count": 35,
      "outputs": [
        {
          "output_type": "display_data",
          "data": {
            "image/png": "[encoded data removed]",
            "text/plain": [
              "<Figure size 1080x360 with 4 Axes>"
            ]
          },
          "metadata": {
            "needs_background": "light"
          }
        }
      ]
    },
    {
      "cell_type": "code",
      "metadata": {
        "colab": {
          "base_uri": "https://localhost:8080/",
          "height": 581
        },
        "id": "ZJl5_rMYY-T2",
        "outputId": "6d10f91f-babc-4f72-d281-09ef954ff92d"
      },
      "source": [
        "df.hist(layout=(3,3), figsize=(15,10))"
      ],
      "execution_count": 36,
      "outputs": [
        {
          "output_type": "execute_result",
          "data": {
            "text/plain": [
              "array([[<matplotlib.axes._subplots.AxesSubplot object at 0x7f12505380d0>,\n",
              "        <matplotlib.axes._subplots.AxesSubplot object at 0x7f1250484590>,\n",
              "        <matplotlib.axes._subplots.AxesSubplot object at 0x7f12504b9c10>],\n",
              "       [<matplotlib.axes._subplots.AxesSubplot object at 0x7f12504792d0>,\n",
              "        <matplotlib.axes._subplots.AxesSubplot object at 0x7f1250430950>,\n",
              "        <matplotlib.axes._subplots.AxesSubplot object at 0x7f12503dab10>],\n",
              "       [<matplotlib.axes._subplots.AxesSubplot object at 0x7f12503a5710>,\n",
              "        <matplotlib.axes._subplots.AxesSubplot object at 0x7f125036d190>,\n",
              "        <matplotlib.axes._subplots.AxesSubplot object at 0x7f125036d1d0>]],\n",
              "      dtype=object)"
            ]
          },
          "metadata": {},
          "execution_count": 36
        },
        {
          "output_type": "display_data",
          "data": {
            "image/png": "[encoded data removed]",
            "text/plain": [
              "<Figure size 1080x720 with 9 Axes>"
            ]
          },
          "metadata": {
            "needs_background": "light"
          }
        }
      ]
    },
    {
      "cell_type": "code",
      "metadata": {
        "colab": {
          "base_uri": "https://localhost:8080/",
          "height": 743
        },
        "id": "2FVvScmnsQ0r",
        "outputId": "5bb2e902-3314-4b76-f9cd-786176c9a0db"
      },
      "source": [
        "sns.pairplot(df)"
      ],
      "execution_count": 37,
      "outputs": [
        {
          "output_type": "execute_result",
          "data": {
            "text/plain": [
              "<seaborn.axisgrid.PairGrid at 0x7f1251f06610>"
            ]
          },
          "metadata": {},
          "execution_count": 37
        },
        {
          "output_type": "display_data",
          "data": {
            "image/png": "[encoded data removed]",
            "text/plain": [
              "<Figure size 720x720 with 20 Axes>"
            ]
          },
          "metadata": {
            "needs_background": "light"
          }
        }
      ]
    },
    {
      "cell_type": "markdown",
      "metadata": {
        "id": "0mlRhVK-iryb"
      },
      "source": [
        "#Funções"
      ]
    },
    {
      "cell_type": "code",
      "metadata": {
        "id": "ggHQacYLh2Dy"
      },
      "source": [
        "#Função para arredondar valores em 2 casas decimais\n",
        "\n",
        "def arred(x):\n",
        "  return round(x,2)\n",
        "  \n",
        "#Função para mostrar valores unicos \n",
        "\n",
        "def vlr_unique(col_u):\n",
        "  return col_u.unique()\n",
        "\n",
        "#Função para mostrar quantidade valores unicos \n",
        "\n",
        "def vlr_counts(col_v):\n",
        "  return col_v.value_counts()\n"
      ],
      "execution_count": 21,
      "outputs": []
    },
    {
      "cell_type": "markdown",
      "metadata": {
        "id": "Rx3gkS2hVsxb"
      },
      "source": [
        "#Realizando a tratativa nos dados\n",
        "\n",
        "---\n",
        "\n",
        "\n",
        "\n",
        "\n",
        "\n",
        "\n",
        "\n",
        "\n",
        "\n",
        "\n"
      ]
    },
    {
      "cell_type": "code",
      "metadata": {
        "id": "9mmslnbYufMq"
      },
      "source": [
        "# Removendo a 1ª linha, pois é duplicada do cabeçalho\n",
        "df.drop(0 , inplace=True)"
      ],
      "execution_count": 22,
      "outputs": []
    },
    {
      "cell_type": "code",
      "metadata": {
        "colab": {
          "base_uri": "https://localhost:8080/"
        },
        "id": "mGeqwVD3u8NE",
        "outputId": "6cec826e-4205-4505-e6a0-b92a32265e5f"
      },
      "source": [
        "# Formantando os tipos corretos das colunas\n",
        "df['idade'] = df['idade'].astype('int64')\n",
        "df['imc'] = df['imc'].astype('float64')\n",
        "df['crianca'] = df['crianca'].astype('float64')\n",
        "df['valor_seguro_saude'] = df['valor_seguro_saude'].astype('float64')\n",
        "df.info()"
      ],
      "execution_count": 23,
      "outputs": [
        {
          "output_type": "stream",
          "text": [
            "<class 'pandas.core.frame.DataFrame'>\n",
            "Int64Index: 1338 entries, 1 to 1338\n",
            "Data columns (total 7 columns):\n",
            " #   Column              Non-Null Count  Dtype  \n",
            "---  ------              --------------  -----  \n",
            " 0   idade               1338 non-null   int64  \n",
            " 1   sexo                1336 non-null   object \n",
            " 2   imc                 1338 non-null   float64\n",
            " 3   crianca             1338 non-null   float64\n",
            " 4   fumante             1337 non-null   object \n",
            " 5   regiao              1337 non-null   object \n",
            " 6   valor_seguro_saude  1338 non-null   float64\n",
            "dtypes: float64(3), int64(1), object(3)\n",
            "memory usage: 83.6+ KB\n"
          ],
          "name": "stdout"
        }
      ]
    },
    {
      "cell_type": "code",
      "metadata": {
        "colab": {
          "base_uri": "https://localhost:8080/"
        },
        "id": "4hJYpp-6Hjai",
        "outputId": "1932c20a-c9c2-477e-eb68-00ab1008e128"
      },
      "source": [
        "vlr_unique(df['sexo'])"
      ],
      "execution_count": 24,
      "outputs": [
        {
          "output_type": "execute_result",
          "data": {
            "text/plain": [
              "array(['masculino', 'feminino', nan, '2'], dtype=object)"
            ]
          },
          "metadata": {},
          "execution_count": 24
        }
      ]
    },
    {
      "cell_type": "code",
      "metadata": {
        "colab": {
          "base_uri": "https://localhost:8080/"
        },
        "id": "ADqkBQ9UoR9L",
        "outputId": "24346bec-5e8c-4f43-f453-efa8a593fe15"
      },
      "source": [
        "vlr_counts(df['sexo'])"
      ],
      "execution_count": 25,
      "outputs": [
        {
          "output_type": "execute_result",
          "data": {
            "text/plain": [
              "masculino    675\n",
              "feminino     660\n",
              "2              1\n",
              "Name: sexo, dtype: int64"
            ]
          },
          "metadata": {},
          "execution_count": 25
        }
      ]
    },
    {
      "cell_type": "code",
      "metadata": {
        "id": "a67kw6plKdZQ"
      },
      "source": [
        "df['sexo'] = df['sexo'].fillna(\"masculino\")\n",
        "df.loc[df['sexo'] =='2','sexo'] = \"feminino\""
      ],
      "execution_count": 26,
      "outputs": []
    },
    {
      "cell_type": "markdown",
      "metadata": {
        "id": "WdzQ21bIktjQ"
      },
      "source": [
        "Optei por classificar:\n",
        " > Vazio: masculino\n",
        "\n",
        " > 2: feminino.\n"
      ]
    },
    {
      "cell_type": "code",
      "metadata": {
        "colab": {
          "base_uri": "https://localhost:8080/"
        },
        "id": "J-aMpL2hXRnj",
        "outputId": "22cf583f-291d-4750-c5ce-20eea3faecfa"
      },
      "source": [
        "vlr_unique(df['fumante'])"
      ],
      "execution_count": 27,
      "outputs": [
        {
          "output_type": "execute_result",
          "data": {
            "text/plain": [
              "array(['sim', 'nao', nan], dtype=object)"
            ]
          },
          "metadata": {},
          "execution_count": 27
        }
      ]
    },
    {
      "cell_type": "code",
      "metadata": {
        "colab": {
          "base_uri": "https://localhost:8080/"
        },
        "id": "si2pGF-Fob5T",
        "outputId": "87739920-34f2-4473-8078-6725be6cc441"
      },
      "source": [
        "vlr_counts(df['fumante'])"
      ],
      "execution_count": 28,
      "outputs": [
        {
          "output_type": "execute_result",
          "data": {
            "text/plain": [
              "nao    1063\n",
              "sim     274\n",
              "Name: fumante, dtype: int64"
            ]
          },
          "metadata": {},
          "execution_count": 28
        }
      ]
    },
    {
      "cell_type": "code",
      "metadata": {
        "id": "clbbzxCtdQr8"
      },
      "source": [
        "df['fumante'] = df['fumante'].fillna('nao')"
      ],
      "execution_count": 29,
      "outputs": []
    },
    {
      "cell_type": "markdown",
      "metadata": {
        "id": "WISVzdbEk4lw"
      },
      "source": [
        "Optei por classificar:\n",
        " > Vazio: não"
      ]
    },
    {
      "cell_type": "code",
      "metadata": {
        "colab": {
          "base_uri": "https://localhost:8080/"
        },
        "id": "qQL3SGbAoFcL",
        "outputId": "d90aabcf-ed9f-4b41-f791-a3fe5976b354"
      },
      "source": [
        "vlr_unique(df['regiao'])"
      ],
      "execution_count": 30,
      "outputs": [
        {
          "output_type": "execute_result",
          "data": {
            "text/plain": [
              "array(['norte', 'sudeste', 'nordeste', 'sul', nan, '1'], dtype=object)"
            ]
          },
          "metadata": {},
          "execution_count": 30
        }
      ]
    },
    {
      "cell_type": "code",
      "metadata": {
        "colab": {
          "base_uri": "https://localhost:8080/"
        },
        "id": "SHUgTzP7nCcx",
        "outputId": "eeb86348-87cb-478c-a3ce-8c964ea1825c"
      },
      "source": [
        "vlr_counts(df['regiao'])"
      ],
      "execution_count": 31,
      "outputs": [
        {
          "output_type": "execute_result",
          "data": {
            "text/plain": [
              "sul         363\n",
              "nordeste    325\n",
              "sudeste     324\n",
              "norte       324\n",
              "1             1\n",
              "Name: regiao, dtype: int64"
            ]
          },
          "metadata": {},
          "execution_count": 31
        }
      ]
    },
    {
      "cell_type": "code",
      "metadata": {
        "colab": {
          "base_uri": "https://localhost:8080/"
        },
        "id": "a3ZDm-w_XUVj",
        "outputId": "0d9be26a-61c6-415f-8930-72c2b44f0c4a"
      },
      "source": [
        "df['regiao'].unique()"
      ],
      "execution_count": 32,
      "outputs": [
        {
          "output_type": "execute_result",
          "data": {
            "text/plain": [
              "array(['norte', 'sudeste', 'nordeste', 'sul', nan, '1'], dtype=object)"
            ]
          },
          "metadata": {},
          "execution_count": 32
        }
      ]
    },
    {
      "cell_type": "code",
      "metadata": {
        "id": "AmE-C7-vdrBl"
      },
      "source": [
        "df['regiao'] = df['regiao'].fillna('norte')\n",
        "df.loc[df['regiao'] =='1','regiao'] = \"sul\""
      ],
      "execution_count": 33,
      "outputs": []
    },
    {
      "cell_type": "markdown",
      "metadata": {
        "id": "K138IU7zk9To"
      },
      "source": [
        "Optei por classificar:\n",
        " > Vazio: norte\n",
        " \n",
        " > 1: sul"
      ]
    },
    {
      "cell_type": "code",
      "metadata": {
        "colab": {
          "base_uri": "https://localhost:8080/"
        },
        "id": "JiZOPa5NhG4J",
        "outputId": "f40bfe9c-d510-4d48-8a34-83c93ad4f72b"
      },
      "source": [
        "df.isnull().sum()"
      ],
      "execution_count": 34,
      "outputs": [
        {
          "output_type": "execute_result",
          "data": {
            "text/plain": [
              "idade                 0\n",
              "sexo                  0\n",
              "imc                   0\n",
              "crianca               0\n",
              "fumante               0\n",
              "regiao                0\n",
              "valor_seguro_saude    0\n",
              "dtype: int64"
            ]
          },
          "metadata": {},
          "execution_count": 34
        }
      ]
    },
    {
      "cell_type": "markdown",
      "metadata": {
        "id": "Ax4VP3K_WHqj"
      },
      "source": [
        "#1. Qual o gasto total da operadora?\n",
        "\n",
        "---\n",
        "\n"
      ]
    },
    {
      "cell_type": "code",
      "metadata": {
        "colab": {
          "base_uri": "https://localhost:8080/"
        },
        "id": "Bb6M9Vr9pqB1",
        "outputId": "8671a4bd-ecc5-4de7-cce3-665eff8acac5"
      },
      "source": [
        "vlr = arred(df['valor_seguro_saude'].sum() )\n",
        "print('Gasto total da operadora: {}'.format(vlr))"
      ],
      "execution_count": 38,
      "outputs": [
        {
          "output_type": "stream",
          "text": [
            "Gasto total da operadora: 17755824.99\n"
          ],
          "name": "stdout"
        }
      ]
    },
    {
      "cell_type": "markdown",
      "metadata": {
        "id": "5A603sSFWQUq"
      },
      "source": [
        "#2. Qual a idade média dos usuários da operadora?\n",
        "\n",
        "---\n",
        "\n"
      ]
    },
    {
      "cell_type": "code",
      "metadata": {
        "colab": {
          "base_uri": "https://localhost:8080/"
        },
        "id": "Ago6sMZbB3Ht",
        "outputId": "754e64a9-e6b9-4a43-85f4-869cf3aaa169"
      },
      "source": [
        "idade_media = arred(df['idade'].mean())\n",
        "print('Idade média dos usuários: {}'.format(idade_media,))"
      ],
      "execution_count": 39,
      "outputs": [
        {
          "output_type": "stream",
          "text": [
            "Idade média dos usuários: 39.21\n"
          ],
          "name": "stdout"
        }
      ]
    },
    {
      "cell_type": "markdown",
      "metadata": {
        "id": "Qc_CUo1xXkb7"
      },
      "source": [
        "#3. Qual o gasto médio por região?\n",
        "\n",
        "---\n",
        "\n"
      ]
    },
    {
      "cell_type": "code",
      "metadata": {
        "colab": {
          "base_uri": "https://localhost:8080/",
          "height": 341
        },
        "id": "eqthV9Les1ps",
        "outputId": "a5812d4d-fc2c-4605-d961-cfb5852b1190"
      },
      "source": [
        "gasto_medio = arred(df[['regiao','valor_seguro_saude']].groupby('regiao').sum().reset_index())\n",
        "gasto_medio.sort_values('valor_seguro_saude', ascending=False)[['regiao','valor_seguro_saude']].plot(kind=\"bar\", x='regiao',y='valor_seguro_saude')"
      ],
      "execution_count": 40,
      "outputs": [
        {
          "output_type": "execute_result",
          "data": {
            "text/plain": [
              "<matplotlib.axes._subplots.AxesSubplot at 0x7f12503b86d0>"
            ]
          },
          "metadata": {},
          "execution_count": 40
        },
        {
          "output_type": "display_data",
          "data": {
            "image/png": "[encoded data removed]",
            "text/plain": [
              "<Figure size 432x288 with 1 Axes>"
            ]
          },
          "metadata": {
            "needs_background": "light"
          }
        }
      ]
    },
    {
      "cell_type": "markdown",
      "metadata": {
        "id": "6YLbGazUa2VT"
      },
      "source": [
        "#4. Qual faixa etária possui maior gasto com seguro saúde por região?\n",
        "\n",
        "---\n",
        "\n"
      ]
    },
    {
      "cell_type": "code",
      "metadata": {
        "id": "mdHpjWckbVSi"
      },
      "source": [
        "# Criando classificação de idade \n",
        "df['faixa_etaria'] = 0\n",
        "\n",
        "for i in df['idade']:\n",
        "  df.loc[df['idade'] <= 18,'faixa_etaria'] = \"0 - 18\"\n",
        "  df.loc[df['idade'] >= 19,'faixa_etaria'] = \"19 - 29\"\n",
        "  df.loc[df['idade'] >= 30,'faixa_etaria'] = \"30 - 39\"\n",
        "  df.loc[df['idade'] >= 40,'faixa_etaria'] = \"40 - 49\"\n",
        "  df.loc[df['idade'] >= 50,'faixa_etaria'] = \"50 - 59\"\n",
        "  df.loc[df['idade'] >= 60,'faixa_etaria'] = \"Acima 60\"\n"
      ],
      "execution_count": 41,
      "outputs": []
    },
    {
      "cell_type": "code",
      "metadata": {
        "colab": {
          "base_uri": "https://localhost:8080/",
          "height": 731
        },
        "id": "1GRhtfZij-6b",
        "outputId": "b28b156f-7eb7-41c7-b2a2-e591e9c56f0d"
      },
      "source": [
        "#Agrupando por região e faixa etária o valor total gasto\n",
        "vlr_regiao = arred(df[['valor_seguro_saude','regiao','faixa_etaria']].groupby(['regiao','faixa_etaria']).sum().reset_index())\n",
        "vlr_regiao"
      ],
      "execution_count": 42,
      "outputs": [
        {
          "output_type": "execute_result",
          "data": {
            "text/html": [
              "<div>\n",
              "<style scoped>\n",
              "    .dataframe tbody tr th:only-of-type {\n",
              "        vertical-align: middle;\n",
              "    }\n",
              "\n",
              "    .dataframe tbody tr th {\n",
              "        vertical-align: top;\n",
              "    }\n",
              "\n",
              "    .dataframe thead th {\n",
              "        text-align: right;\n",
              "    }\n",
              "</style>\n",
              "<table border=\"1\" class=\"dataframe\">\n",
              "  <thead>\n",
              "    <tr style=\"text-align: right;\">\n",
              "      <th></th>\n",
              "      <th>regiao</th>\n",
              "      <th>faixa_etaria</th>\n",
              "      <th>valor_seguro_saude</th>\n",
              "    </tr>\n",
              "  </thead>\n",
              "  <tbody>\n",
              "    <tr>\n",
              "      <th>0</th>\n",
              "      <td>nordeste</td>\n",
              "      <td>19 - 29</td>\n",
              "      <td>814127.82</td>\n",
              "    </tr>\n",
              "    <tr>\n",
              "      <th>1</th>\n",
              "      <td>nordeste</td>\n",
              "      <td>30 - 39</td>\n",
              "      <td>639746.98</td>\n",
              "    </tr>\n",
              "    <tr>\n",
              "      <th>2</th>\n",
              "      <td>nordeste</td>\n",
              "      <td>40 - 49</td>\n",
              "      <td>946385.81</td>\n",
              "    </tr>\n",
              "    <tr>\n",
              "      <th>3</th>\n",
              "      <td>nordeste</td>\n",
              "      <td>50 - 59</td>\n",
              "      <td>1085347.91</td>\n",
              "    </tr>\n",
              "    <tr>\n",
              "      <th>4</th>\n",
              "      <td>nordeste</td>\n",
              "      <td>Acima 60</td>\n",
              "      <td>550103.48</td>\n",
              "    </tr>\n",
              "    <tr>\n",
              "      <th>5</th>\n",
              "      <td>norte</td>\n",
              "      <td>0 - 18</td>\n",
              "      <td>241879.44</td>\n",
              "    </tr>\n",
              "    <tr>\n",
              "      <th>6</th>\n",
              "      <td>norte</td>\n",
              "      <td>19 - 29</td>\n",
              "      <td>683666.37</td>\n",
              "    </tr>\n",
              "    <tr>\n",
              "      <th>7</th>\n",
              "      <td>norte</td>\n",
              "      <td>30 - 39</td>\n",
              "      <td>780262.59</td>\n",
              "    </tr>\n",
              "    <tr>\n",
              "      <th>8</th>\n",
              "      <td>norte</td>\n",
              "      <td>40 - 49</td>\n",
              "      <td>947053.53</td>\n",
              "    </tr>\n",
              "    <tr>\n",
              "      <th>9</th>\n",
              "      <td>norte</td>\n",
              "      <td>50 - 59</td>\n",
              "      <td>1185820.30</td>\n",
              "    </tr>\n",
              "    <tr>\n",
              "      <th>10</th>\n",
              "      <td>norte</td>\n",
              "      <td>Acima 60</td>\n",
              "      <td>553810.80</td>\n",
              "    </tr>\n",
              "    <tr>\n",
              "      <th>11</th>\n",
              "      <td>sudeste</td>\n",
              "      <td>19 - 29</td>\n",
              "      <td>902776.24</td>\n",
              "    </tr>\n",
              "    <tr>\n",
              "      <th>12</th>\n",
              "      <td>sudeste</td>\n",
              "      <td>30 - 39</td>\n",
              "      <td>813667.88</td>\n",
              "    </tr>\n",
              "    <tr>\n",
              "      <th>13</th>\n",
              "      <td>sudeste</td>\n",
              "      <td>40 - 49</td>\n",
              "      <td>793704.46</td>\n",
              "    </tr>\n",
              "    <tr>\n",
              "      <th>14</th>\n",
              "      <td>sudeste</td>\n",
              "      <td>50 - 59</td>\n",
              "      <td>866291.92</td>\n",
              "    </tr>\n",
              "    <tr>\n",
              "      <th>15</th>\n",
              "      <td>sudeste</td>\n",
              "      <td>Acima 60</td>\n",
              "      <td>587489.70</td>\n",
              "    </tr>\n",
              "    <tr>\n",
              "      <th>16</th>\n",
              "      <td>sul</td>\n",
              "      <td>0 - 18</td>\n",
              "      <td>247069.57</td>\n",
              "    </tr>\n",
              "    <tr>\n",
              "      <th>17</th>\n",
              "      <td>sul</td>\n",
              "      <td>19 - 29</td>\n",
              "      <td>939577.69</td>\n",
              "    </tr>\n",
              "    <tr>\n",
              "      <th>18</th>\n",
              "      <td>sul</td>\n",
              "      <td>30 - 39</td>\n",
              "      <td>783190.07</td>\n",
              "    </tr>\n",
              "    <tr>\n",
              "      <th>19</th>\n",
              "      <td>sul</td>\n",
              "      <td>40 - 49</td>\n",
              "      <td>1330234.00</td>\n",
              "    </tr>\n",
              "    <tr>\n",
              "      <th>20</th>\n",
              "      <td>sul</td>\n",
              "      <td>50 - 59</td>\n",
              "      <td>1332747.92</td>\n",
              "    </tr>\n",
              "    <tr>\n",
              "      <th>21</th>\n",
              "      <td>sul</td>\n",
              "      <td>Acima 60</td>\n",
              "      <td>730870.52</td>\n",
              "    </tr>\n",
              "  </tbody>\n",
              "</table>\n",
              "</div>"
            ],
            "text/plain": [
              "      regiao faixa_etaria  valor_seguro_saude\n",
              "0   nordeste      19 - 29           814127.82\n",
              "1   nordeste      30 - 39           639746.98\n",
              "2   nordeste      40 - 49           946385.81\n",
              "3   nordeste      50 - 59          1085347.91\n",
              "4   nordeste     Acima 60           550103.48\n",
              "5      norte       0 - 18           241879.44\n",
              "6      norte      19 - 29           683666.37\n",
              "7      norte      30 - 39           780262.59\n",
              "8      norte      40 - 49           947053.53\n",
              "9      norte      50 - 59          1185820.30\n",
              "10     norte     Acima 60           553810.80\n",
              "11   sudeste      19 - 29           902776.24\n",
              "12   sudeste      30 - 39           813667.88\n",
              "13   sudeste      40 - 49           793704.46\n",
              "14   sudeste      50 - 59           866291.92\n",
              "15   sudeste     Acima 60           587489.70\n",
              "16       sul       0 - 18           247069.57\n",
              "17       sul      19 - 29           939577.69\n",
              "18       sul      30 - 39           783190.07\n",
              "19       sul      40 - 49          1330234.00\n",
              "20       sul      50 - 59          1332747.92\n",
              "21       sul     Acima 60           730870.52"
            ]
          },
          "metadata": {},
          "execution_count": 42
        }
      ]
    },
    {
      "cell_type": "code",
      "metadata": {
        "colab": {
          "base_uri": "https://localhost:8080/"
        },
        "id": "RSp2dUf8SSeO",
        "outputId": "7fbfd9dc-cbfc-4b9f-a8cd-125f5ec7c773"
      },
      "source": [
        "#Identificando o valor mais alto por região e faixa etária\n",
        "for regiao in vlr_regiao.regiao.unique():\n",
        "  \n",
        "  vlr_filtro = vlr_regiao[(vlr_regiao['regiao'] == regiao)]\n",
        "\n",
        "  maximo = vlr_filtro['valor_seguro_saude'].max()\n",
        "\n",
        "  for index,row in vlr_regiao.iterrows():\n",
        "    item_regiao = row['regiao']\n",
        "    item_valor = row['valor_seguro_saude']\n",
        "\n",
        "    if ( regiao == item_regiao ) and (maximo == item_valor):\n",
        "      item_faixa = row['faixa_etaria']\n",
        "    else:\n",
        "      pass\n",
        "\n",
        "  print(\"--------------------------------\")\n",
        "  print(\"Região:\" + regiao.upper() + \"\\nFaixa Etária: \" + item_faixa + \"\\nValor Seguro Saúde: \", + maximo)\n",
        "  print(\"--------------------------------\")\n",
        "  "
      ],
      "execution_count": 43,
      "outputs": [
        {
          "output_type": "stream",
          "text": [
            "--------------------------------\n",
            "Região:NORDESTE\n",
            "Faixa Etária: 50 - 59\n",
            "Valor Seguro Saúde:  1085347.91\n",
            "--------------------------------\n",
            "--------------------------------\n",
            "Região:NORTE\n",
            "Faixa Etária: 50 - 59\n",
            "Valor Seguro Saúde:  1185820.3\n",
            "--------------------------------\n",
            "--------------------------------\n",
            "Região:SUDESTE\n",
            "Faixa Etária: 19 - 29\n",
            "Valor Seguro Saúde:  902776.24\n",
            "--------------------------------\n",
            "--------------------------------\n",
            "Região:SUL\n",
            "Faixa Etária: 50 - 59\n",
            "Valor Seguro Saúde:  1332747.92\n",
            "--------------------------------\n"
          ],
          "name": "stdout"
        }
      ]
    },
    {
      "cell_type": "markdown",
      "metadata": {
        "id": "hvyTEkhknLC5"
      },
      "source": [
        "#5. Crianças tem gasto maior que adultos?\n",
        "\n",
        "---\n",
        "\n"
      ]
    },
    {
      "cell_type": "code",
      "metadata": {
        "colab": {
          "base_uri": "https://localhost:8080/"
        },
        "id": "eCD3VZhqxVOx",
        "outputId": "87a15ca7-1ee6-4cf7-80f2-9897dffbdc31"
      },
      "source": [
        "gasto_crianca = arred(df[(df['faixa_etaria'] == '0 - 18')].sum().valor_seguro_saude)\n",
        "gasto_adulto = arred(df[(df['faixa_etaria'] != '0 - 18')].sum().valor_seguro_saude)\n",
        "\n",
        "if (gasto_crianca > gasto_adulto):\n",
        "  dif = arred(gasto_crianca - gasto_adulto)\n",
        "  print(\"O gasto das crianças em relação aos adultos, é maior em: {}\" .format(dif))\n",
        "  print(\"\\n Gasto Criança: \" + str(round(gasto_crianca,2)) + \"\\n Gasto Adulto: \" + str(gasto_adulto))\n",
        "else:\n",
        "  dif = arred(gasto_adulto - gasto_crianca)\n",
        "  print(\"O gasto das crianças em relação aos adultos, é menor em: {}\" .format(dif))\n",
        "  print(\"\\n Gasto Criança: \" + str((gasto_crianca)) + \"\\n Gasto Adulto: \" + str(gasto_adulto))\n"
      ],
      "execution_count": 44,
      "outputs": [
        {
          "output_type": "stream",
          "text": [
            "O gasto das crianças em relação aos adultos, é menor em: 16777926.97\n",
            "\n",
            " Gasto Criança: 488949.01\n",
            " Gasto Adulto: 17266875.98\n"
          ],
          "name": "stdout"
        }
      ]
    },
    {
      "cell_type": "markdown",
      "metadata": {
        "id": "itsSqOSmnRVB"
      },
      "source": [
        "#6. Qual a proporção de crianças por região?\n",
        "\n",
        "---\n",
        "\n"
      ]
    },
    {
      "cell_type": "code",
      "metadata": {
        "id": "6p2pDTGHnO1R",
        "colab": {
          "base_uri": "https://localhost:8080/",
          "height": 111
        },
        "outputId": "68a2407d-16cc-42e3-cc70-2da0827cf774"
      },
      "source": [
        "#total de crianças por região \n",
        "total_criancas = df[(df['faixa_etaria']=='0 - 18')]\n",
        "total_criancas[['faixa_etaria','regiao']].groupby('regiao').count().reset_index()\n"
      ],
      "execution_count": 45,
      "outputs": [
        {
          "output_type": "execute_result",
          "data": {
            "text/html": [
              "<div>\n",
              "<style scoped>\n",
              "    .dataframe tbody tr th:only-of-type {\n",
              "        vertical-align: middle;\n",
              "    }\n",
              "\n",
              "    .dataframe tbody tr th {\n",
              "        vertical-align: top;\n",
              "    }\n",
              "\n",
              "    .dataframe thead th {\n",
              "        text-align: right;\n",
              "    }\n",
              "</style>\n",
              "<table border=\"1\" class=\"dataframe\">\n",
              "  <thead>\n",
              "    <tr style=\"text-align: right;\">\n",
              "      <th></th>\n",
              "      <th>regiao</th>\n",
              "      <th>faixa_etaria</th>\n",
              "    </tr>\n",
              "  </thead>\n",
              "  <tbody>\n",
              "    <tr>\n",
              "      <th>0</th>\n",
              "      <td>norte</td>\n",
              "      <td>32</td>\n",
              "    </tr>\n",
              "    <tr>\n",
              "      <th>1</th>\n",
              "      <td>sul</td>\n",
              "      <td>37</td>\n",
              "    </tr>\n",
              "  </tbody>\n",
              "</table>\n",
              "</div>"
            ],
            "text/plain": [
              "  regiao  faixa_etaria\n",
              "0  norte            32\n",
              "1    sul            37"
            ]
          },
          "metadata": {},
          "execution_count": 45
        }
      ]
    },
    {
      "cell_type": "markdown",
      "metadata": {
        "id": "DIVm55td1Odb"
      },
      "source": [
        "Não há crianças nas regiões nordeste e sudeste."
      ]
    },
    {
      "cell_type": "code",
      "metadata": {
        "colab": {
          "base_uri": "https://localhost:8080/",
          "height": 173
        },
        "id": "bK-7iyEDuebF",
        "outputId": "f98011bc-e076-42fb-c8c1-11559775cb7c"
      },
      "source": [
        "#total de pessoas por região\n",
        "total_pessoas = df[['faixa_etaria','regiao']].groupby('regiao').count().reset_index()\n",
        "total_pessoas"
      ],
      "execution_count": 46,
      "outputs": [
        {
          "output_type": "execute_result",
          "data": {
            "text/html": [
              "<div>\n",
              "<style scoped>\n",
              "    .dataframe tbody tr th:only-of-type {\n",
              "        vertical-align: middle;\n",
              "    }\n",
              "\n",
              "    .dataframe tbody tr th {\n",
              "        vertical-align: top;\n",
              "    }\n",
              "\n",
              "    .dataframe thead th {\n",
              "        text-align: right;\n",
              "    }\n",
              "</style>\n",
              "<table border=\"1\" class=\"dataframe\">\n",
              "  <thead>\n",
              "    <tr style=\"text-align: right;\">\n",
              "      <th></th>\n",
              "      <th>regiao</th>\n",
              "      <th>faixa_etaria</th>\n",
              "    </tr>\n",
              "  </thead>\n",
              "  <tbody>\n",
              "    <tr>\n",
              "      <th>0</th>\n",
              "      <td>nordeste</td>\n",
              "      <td>325</td>\n",
              "    </tr>\n",
              "    <tr>\n",
              "      <th>1</th>\n",
              "      <td>norte</td>\n",
              "      <td>325</td>\n",
              "    </tr>\n",
              "    <tr>\n",
              "      <th>2</th>\n",
              "      <td>sudeste</td>\n",
              "      <td>324</td>\n",
              "    </tr>\n",
              "    <tr>\n",
              "      <th>3</th>\n",
              "      <td>sul</td>\n",
              "      <td>364</td>\n",
              "    </tr>\n",
              "  </tbody>\n",
              "</table>\n",
              "</div>"
            ],
            "text/plain": [
              "     regiao  faixa_etaria\n",
              "0  nordeste           325\n",
              "1     norte           325\n",
              "2   sudeste           324\n",
              "3       sul           364"
            ]
          },
          "metadata": {},
          "execution_count": 46
        }
      ]
    },
    {
      "cell_type": "code",
      "metadata": {
        "colab": {
          "base_uri": "https://localhost:8080/"
        },
        "id": "5U6-xZUI6Egz",
        "outputId": "21e4b024-ef9f-4786-c7d9-8a34cf71bd7a"
      },
      "source": [
        "#norte\n",
        "qtd_norte = arred((32/325) *100)\n",
        "print(\"Há {}% de crianças na região norte.\".format(qtd_norte))\n",
        "\n",
        "#sul\n",
        "qtd_sul = arred((37/364) * 100)\n",
        "print(\"Há {}% de crianças na região sul.\".format(qtd_sul))"
      ],
      "execution_count": 47,
      "outputs": [
        {
          "output_type": "stream",
          "text": [
            "Há 9.85% de crianças na região norte.\n",
            "Há 10.16% de crianças na região sul.\n"
          ],
          "name": "stdout"
        }
      ]
    },
    {
      "cell_type": "markdown",
      "metadata": {
        "id": "ahjvBOvmnS6R"
      },
      "source": [
        "#7. O aumento da idade influencia no imc?\n",
        "\n",
        "---\n",
        "\n"
      ]
    },
    {
      "cell_type": "code",
      "metadata": {
        "colab": {
          "base_uri": "https://localhost:8080/",
          "height": 296
        },
        "id": "Yc6VYzzCnOyZ",
        "outputId": "75c47ecb-ed20-4c0b-c943-95b0e56dbb8a"
      },
      "source": [
        "df.plot.scatter(x='idade',y='imc')"
      ],
      "execution_count": 48,
      "outputs": [
        {
          "output_type": "execute_result",
          "data": {
            "text/plain": [
              "<matplotlib.axes._subplots.AxesSubplot at 0x7f1245a72110>"
            ]
          },
          "metadata": {},
          "execution_count": 48
        },
        {
          "output_type": "display_data",
          "data": {
            "image/png": "[encoded data removed]",
            "text/plain": [
              "<Figure size 432x288 with 1 Axes>"
            ]
          },
          "metadata": {
            "needs_background": "light"
          }
        }
      ]
    },
    {
      "cell_type": "code",
      "metadata": {
        "colab": {
          "base_uri": "https://localhost:8080/",
          "height": 173
        },
        "id": "9CkcL2e_b0Bz",
        "outputId": "33488263-d58b-4685-f131-baf25e57104f"
      },
      "source": [
        "df.corr()"
      ],
      "execution_count": 49,
      "outputs": [
        {
          "output_type": "execute_result",
          "data": {
            "text/html": [
              "<div>\n",
              "<style scoped>\n",
              "    .dataframe tbody tr th:only-of-type {\n",
              "        vertical-align: middle;\n",
              "    }\n",
              "\n",
              "    .dataframe tbody tr th {\n",
              "        vertical-align: top;\n",
              "    }\n",
              "\n",
              "    .dataframe thead th {\n",
              "        text-align: right;\n",
              "    }\n",
              "</style>\n",
              "<table border=\"1\" class=\"dataframe\">\n",
              "  <thead>\n",
              "    <tr style=\"text-align: right;\">\n",
              "      <th></th>\n",
              "      <th>idade</th>\n",
              "      <th>imc</th>\n",
              "      <th>crianca</th>\n",
              "      <th>valor_seguro_saude</th>\n",
              "    </tr>\n",
              "  </thead>\n",
              "  <tbody>\n",
              "    <tr>\n",
              "      <th>idade</th>\n",
              "      <td>1.000000</td>\n",
              "      <td>0.109272</td>\n",
              "      <td>0.042469</td>\n",
              "      <td>0.299008</td>\n",
              "    </tr>\n",
              "    <tr>\n",
              "      <th>imc</th>\n",
              "      <td>0.109272</td>\n",
              "      <td>1.000000</td>\n",
              "      <td>0.012759</td>\n",
              "      <td>0.198341</td>\n",
              "    </tr>\n",
              "    <tr>\n",
              "      <th>crianca</th>\n",
              "      <td>0.042469</td>\n",
              "      <td>0.012759</td>\n",
              "      <td>1.000000</td>\n",
              "      <td>0.067998</td>\n",
              "    </tr>\n",
              "    <tr>\n",
              "      <th>valor_seguro_saude</th>\n",
              "      <td>0.299008</td>\n",
              "      <td>0.198341</td>\n",
              "      <td>0.067998</td>\n",
              "      <td>1.000000</td>\n",
              "    </tr>\n",
              "  </tbody>\n",
              "</table>\n",
              "</div>"
            ],
            "text/plain": [
              "                       idade       imc   crianca  valor_seguro_saude\n",
              "idade               1.000000  0.109272  0.042469            0.299008\n",
              "imc                 0.109272  1.000000  0.012759            0.198341\n",
              "crianca             0.042469  0.012759  1.000000            0.067998\n",
              "valor_seguro_saude  0.299008  0.198341  0.067998            1.000000"
            ]
          },
          "metadata": {},
          "execution_count": 49
        }
      ]
    },
    {
      "cell_type": "markdown",
      "metadata": {
        "id": "P2R934mLcJ-M"
      },
      "source": [
        "Não há influência entre o aumento da idade para afetar o IMC."
      ]
    },
    {
      "cell_type": "markdown",
      "metadata": {
        "id": "aBX3kkyLjhta"
      },
      "source": [
        "#8. Quem tem maior gasto, homens ou mulheres?\n",
        "\n",
        "---\n",
        "\n"
      ]
    },
    {
      "cell_type": "code",
      "metadata": {
        "colab": {
          "base_uri": "https://localhost:8080/"
        },
        "id": "JMR5nuF38glT",
        "outputId": "5c004988-d919-4ef2-8b8a-a6b40a39910a"
      },
      "source": [
        "masculino = df[(df['sexo']=='masculino')].sum().valor_seguro_saude\n",
        "feminino = df[(df['sexo']=='feminino')].sum().valor_seguro_saude\n",
        "\n",
        "if (masculino > feminino):\n",
        "  dif = arred(masculino - feminino)\n",
        "  print(\"O gasto do sexo masculino em relação ao feminino, é maior em: {}\" .format((dif)))\n",
        "  print(\"\\n Gasto Homem: \" + str((masculino)) + \"\\n Gasto Mulher: \" + str((feminino)))\n",
        "else:\n",
        "  dif = feminino - masculino\n",
        "  print(\"O gasto do sexo masculino em relação ao feminino, é menor em: {}\" .format((dif)))\n",
        "  print(\"\\n Gasto Homem: \" + str((masculino)) + \"\\n Gasto Mulher: \" + str((feminino)))\n"
      ],
      "execution_count": 50,
      "outputs": [
        {
          "output_type": "stream",
          "text": [
            "O gasto do sexo masculino em relação ao feminino, é maior em: 1147616.13\n",
            "\n",
            " Gasto Homem: 9451720.55879\n",
            " Gasto Mulher: 8304104.431969\n"
          ],
          "name": "stdout"
        }
      ]
    },
    {
      "cell_type": "markdown",
      "metadata": {
        "id": "5_UfM6WcnZYK"
      },
      "source": [
        "#9. Se o usuário for mulher, o IMC é acima ou abaixo da média?\n",
        "\n",
        "---\n",
        "\n"
      ]
    },
    {
      "cell_type": "code",
      "metadata": {
        "id": "uYDt2MYpjvX6"
      },
      "source": [
        "#Foi fornecido a classificação do IMC:\n",
        "###Abaixo da média <= 18.5\n",
        "###Acima da média <= 24.9\n",
        "\n",
        "df['classif_imc'] = \" \"\n",
        "for i in df['imc']:\n",
        "    df.loc[df['imc'] < 18.5,'classif_imc'] = \"Abaixo da Média\"\n",
        "    df.loc[df['imc'] > 24.9,'classif_imc'] = \"Acima da Média\"\n",
        "    df.loc[df['classif_imc'] == \" \",'classif_imc'] = \"Dentro da Média\"\n",
        "\n",
        "\n"
      ],
      "execution_count": 51,
      "outputs": []
    },
    {
      "cell_type": "code",
      "metadata": {
        "colab": {
          "base_uri": "https://localhost:8080/"
        },
        "id": "YafIQ7KS__Zr",
        "outputId": "764abc09-1389-4f6f-96d7-fe6309db656f"
      },
      "source": [
        "#Média IMC geral\n",
        "imc_geral = arred(df.imc.mean())\n",
        "\n",
        "#Média IMC usuário feminino\n",
        "\n",
        "imc_feminino = arred(df[(df['sexo'] == 'feminino')].mean().imc)\n",
        "\n",
        "\n",
        "if (imc_geral > imc_feminino):\n",
        "  dif = arred(imc_geral - imc_feminino)\n",
        "  print(\"O IMC feminino baseado na média geral, é menor em: {}\" .format(dif))\n",
        "  print(\"\\n IMC Geral: \" + str((imc_geral)) + \"\\n IMC Feminino: \" + str(imc_feminino))\n",
        "else:\n",
        "  dif = arred(imc_feminino - imc_geral)\n",
        "  print(\"O IMC feminino baseado na média geral, é maior em: {}\" .format((dif)))\n",
        "  print(\"\\n IMC Geral: \" + str((imc_geral)) + \"\\n IMC Feminino: \" + str((imc_feminino)))\n"
      ],
      "execution_count": 52,
      "outputs": [
        {
          "output_type": "stream",
          "text": [
            "O IMC feminino baseado na média geral, é menor em: 0.29\n",
            "\n",
            " IMC Geral: 30.66\n",
            " IMC Feminino: 30.37\n"
          ],
          "name": "stdout"
        }
      ]
    },
    {
      "cell_type": "markdown",
      "metadata": {
        "id": "tr6L-Z8FdjQJ"
      },
      "source": [
        "Se o usuário é mulher o imc é acima da média.\n",
        "IMC mulher: 30.37\n",
        "Média IMC: 30.66"
      ]
    },
    {
      "cell_type": "markdown",
      "metadata": {
        "id": "Asi6ItZyncUB"
      },
      "source": [
        "#10. Se for homem, com mais de 50 anos e da região Sudeste, o gasto é maior ou menor que a média de gastos da região?\n",
        "\n",
        "---\n",
        "\n"
      ]
    },
    {
      "cell_type": "code",
      "metadata": {
        "colab": {
          "base_uri": "https://localhost:8080/"
        },
        "id": "zPmWrv4xvYi8",
        "outputId": "31ce98aa-f8b6-4010-c5e9-761084254d76"
      },
      "source": [
        "# Média de gastos na regiao sudeste\n",
        "media_gasto_sudeste = arred(df[(df['regiao']=='sudeste')&(df['valor_seguro_saude'])].mean().valor_seguro_saude)\n",
        "\n",
        "# Valor gasto, homem mais de 50 e região sudeste\n",
        "valor_gasto = df[(df['regiao']=='sudeste') & (df['idade'] >= 50) & (df['sexo'] == 'masculino')]\n",
        "media_gasto_sudeste_50 = arred(valor_gasto['valor_seguro_saude'].mean())\n",
        "\n",
        "if (media_gasto_sudeste > media_gasto_sudeste_50):\n",
        "  dif = arred(media_gasto_sudeste - media_gasto_sudeste_50)\n",
        "  print(\"O gasto médio comparado com a região é menor em {}\" .format(dif,2))\n",
        "  print(\"\\n Gasto Sudeste: \" + str(media_gasto_sudeste) + \"\\n Gasto Sudeste > 50 anos e homem: \" + str(media_gasto_sudeste_50))\n",
        "else:\n",
        "  dif = arred(media_gasto_sudeste_50 - media_gasto_sudeste)\n",
        "  print(\"O gasto médio comparado com a região é maior em {}\" .format(dif))\n",
        "  print(\"\\n Gasto Sudeste: \" + str(media_gasto_sudeste) + \"\\n Gasto Sudeste > 50 anos e homem: \" + str(media_gasto_sudeste_50))\n"
      ],
      "execution_count": 53,
      "outputs": [
        {
          "output_type": "stream",
          "text": [
            "O gasto médio comparado com a região é maior em 3121.22\n",
            "\n",
            " Gasto Sudeste: 12234.35\n",
            " Gasto Sudeste > 50 anos e homem: 15355.57\n"
          ],
          "name": "stdout"
        }
      ]
    }
  ]
}